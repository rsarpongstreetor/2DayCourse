{
  "cells": [
    {
      "cell_type": "markdown",
      "metadata": {
        "id": "view-in-github",
        "colab_type": "text"
      },
      "source": [
        "<a href=\"https://colab.research.google.com/github/rsarpongstreetor/2DayCourse/blob/master/Copy_of_Data_processing_PhD_Jan_2024_RL.ipynb\" target=\"_parent\"><img src=\"https://colab.research.google.com/assets/colab-badge.svg\" alt=\"Open In Colab\"/></a>"
      ]
    },
    {
      "cell_type": "markdown",
      "source": [
        "## Download Data"
      ],
      "metadata": {
        "id": "lW3fRQ7MF59G"
      }
    },
    {
      "cell_type": "code",
      "execution_count": null,
      "metadata": {
        "colab": {
          "base_uri": "https://localhost:8080/"
        },
        "id": "eGRakrMTY5l3",
        "outputId": "1b692d5e-2ada-480f-b401-559110eb6830"
      },
      "outputs": [
        {
          "output_type": "stream",
          "name": "stdout",
          "text": [
            "Mounted at /content/drive\n",
            "       USD_SDR   OPEC  Brent    WTI  ('EER_EPD2DC_PF4_Y05LA_DPG',)  \\\n",
            "0     0.736561  30.05  30.31  31.97                          0.868   \n",
            "1     0.740139  30.83  31.44  33.25                            NaN   \n",
            "2          NaN    NaN    NaN    NaN                            NaN   \n",
            "3          NaN    NaN    NaN    NaN                            NaN   \n",
            "4     0.735686  30.70  31.44  32.28                          0.898   \n",
            "...        ...    ...    ...    ...                            ...   \n",
            "7690  0.751030  79.70  81.70  75.25                          2.206   \n",
            "7691  0.751212  81.30    NaN    NaN                            NaN   \n",
            "7692  0.750114  81.06    NaN    NaN                            NaN   \n",
            "7693  0.750299  82.00    NaN    NaN                            NaN   \n",
            "7694  0.750919    NaN    NaN    NaN                            NaN   \n",
            "\n",
            "      ('EER_EPD2DXL0_PF4_RGC_DPG',)  ('EER_EPD2DXL0_PF4_Y35NY_DPG',)  \\\n",
            "0                             0.905                            0.880   \n",
            "1                               NaN                              NaN   \n",
            "2                               NaN                              NaN   \n",
            "3                               NaN                              NaN   \n",
            "4                             0.850                            0.818   \n",
            "...                             ...                              ...   \n",
            "7690                          3.142                            2.596   \n",
            "7691                            NaN                              NaN   \n",
            "7692                            NaN                              NaN   \n",
            "7693                            NaN                              NaN   \n",
            "7694                            NaN                              NaN   \n",
            "\n",
            "      ('EER_EPD2F_PF4_Y35NY_DPG',)  ('EER_EPJK_PF4_RGC_DPG',)  \\\n",
            "0                            0.573                      0.921   \n",
            "1                              NaN                        NaN   \n",
            "2                              NaN                        NaN   \n",
            "3                              NaN                        NaN   \n",
            "4                            0.885                      0.842   \n",
            "...                            ...                        ...   \n",
            "7690                         2.529                      2.574   \n",
            "7691                           NaN                        NaN   \n",
            "7692                           NaN                        NaN   \n",
            "7693                           NaN                        NaN   \n",
            "7694                           NaN                        NaN   \n",
            "\n",
            "      ('EER_EPLLPA_PF4_Y44MB_DPG',)  ('EER_EPMRR_PF4_Y05LA_DPG',)  \\\n",
            "0                             0.918                         0.554   \n",
            "1                               NaN                           NaN   \n",
            "2                               NaN                           NaN   \n",
            "3                               NaN                           NaN   \n",
            "4                             0.891                         0.892   \n",
            "...                             ...                           ...   \n",
            "7690                          2.594                         2.086   \n",
            "7691                            NaN                           NaN   \n",
            "7692                            NaN                           NaN   \n",
            "7693                            NaN                           NaN   \n",
            "7694                            NaN                           NaN   \n",
            "\n",
            "      ('EER_EPMRU_PF4_RGC_DPG',)  ('EER_EPMRU_PF4_Y35NY_DP',)  \n",
            "0                          0.888                        0.885  \n",
            "1                            NaN                          NaN  \n",
            "2                            NaN                          NaN  \n",
            "3                            NaN                          NaN  \n",
            "4                          0.863                        0.559  \n",
            "...                          ...                          ...  \n",
            "7690                       2.689                        2.301  \n",
            "7691                         NaN                          NaN  \n",
            "7692                         NaN                          NaN  \n",
            "7693                         NaN                          NaN  \n",
            "7694                         NaN                          NaN  \n",
            "\n",
            "[7695 rows x 13 columns]\n",
            "7694\n"
          ]
        }
      ],
      "source": [
        "from google.colab import drive\n",
        "drive.mount('/content/drive')\n",
        "import pandas as pd\n",
        "import time\n",
        "dffff=pd.read_csv('/content/drive/MyDrive/deep learning codes/EIAAPI_DOWNLOAD/solutions/mergedata/Cleaneddata.csv')\n",
        "\n",
        "dffff = dffff.drop(dffff.columns[4], axis=1)\n",
        "recentdatadate=dffff.index[-1]\n",
        "dfffff= pd.DataFrame(dffff)\n",
        "\n",
        "print(dfffff)\n",
        "print(recentdatadate)"
      ]
    },
    {
      "cell_type": "code",
      "execution_count": null,
      "metadata": {
        "colab": {
          "base_uri": "https://localhost:8080/"
        },
        "id": "UVpZZ4DRZDrr",
        "outputId": "cae07a87-bc27-4ebe-d1ac-aa6b28c8c6e7"
      },
      "outputs": [
        {
          "output_type": "stream",
          "name": "stdout",
          "text": [
            "RangeIndex(start=0, stop=7695, step=1)\n"
          ]
        }
      ],
      "source": [
        "print(dfffff.index)\n"
      ]
    },
    {
      "cell_type": "markdown",
      "metadata": {
        "id": "dQMuJ8DNZNdB"
      },
      "source": [
        "## Ffilling of missing Data using Pandas.ffill\n",
        "\n",
        "\n",
        "\n",
        "\n"
      ]
    },
    {
      "cell_type": "code",
      "execution_count": null,
      "metadata": {
        "colab": {
          "base_uri": "https://localhost:8080/"
        },
        "id": "LKzqe-xQZMnp",
        "outputId": "c4c4eec5-5ec5-4df2-be1a-6812e94e4994"
      },
      "outputs": [
        {
          "output_type": "stream",
          "name": "stdout",
          "text": [
            "7694\n"
          ]
        }
      ],
      "source": [
        "dffffff=dfffff.ffill()\n",
        "recenttdatadate=dffffff.index[-1]\n",
        "print(recenttdatadate)"
      ]
    },
    {
      "cell_type": "markdown",
      "source": [
        "## Slicing Fuel Prices to compute Rewards, Action Space and Probability of Action Space"
      ],
      "metadata": {
        "id": "JAXDZgwMzaDA"
      }
    },
    {
      "cell_type": "code",
      "execution_count": null,
      "metadata": {
        "colab": {
          "base_uri": "https://localhost:8080/"
        },
        "id": "Zq97TREQZUnr",
        "outputId": "7339840d-82d2-4254-ed1a-8a70ed4ed560"
      },
      "outputs": [
        {
          "output_type": "stream",
          "name": "stdout",
          "text": [
            "tf.Tensor(\n",
            "[[ 0.736561 30.05     30.31     ...  0.554     0.888     0.885   ]\n",
            " [ 0.740139 30.83     31.44     ...  0.554     0.888     0.885   ]\n",
            " [ 0.740139 30.83     31.44     ...  0.554     0.888     0.885   ]\n",
            " ...\n",
            " [ 0.750114 81.06     81.7      ...  2.086     2.689     2.301   ]\n",
            " [ 0.750299 82.       81.7      ...  2.086     2.689     2.301   ]\n",
            " [ 0.750919 82.       81.7      ...  2.086     2.689     2.301   ]], shape=(7695, 13), dtype=float64)\n"
          ]
        }
      ],
      "source": [
        "import tensorflow as tf\n",
        "numberr = tf.constant(dffffff, tf.float64)\n",
        "print(numberr)\n",
        "y=numberr[:,4:]"
      ]
    },
    {
      "cell_type": "markdown",
      "metadata": {
        "id": "qRroVPXKZlaJ"
      },
      "source": [
        "## Environment  Observations:Forex and Crude oil price  \n",
        "\n",
        "---\n",
        "\n",
        "\n",
        "\n",
        "\n",
        "\n"
      ]
    },
    {
      "cell_type": "code",
      "execution_count": null,
      "metadata": {
        "colab": {
          "base_uri": "https://localhost:8080/"
        },
        "id": "UmK2rvzQY-Ct",
        "outputId": "1c6dcd49-8d3c-48dc-fb9e-89d1f2bee30f"
      },
      "outputs": [
        {
          "output_type": "stream",
          "name": "stdout",
          "text": [
            "[[ 0.736561 30.05     30.31     31.97    ]\n",
            " [ 0.740139 30.83     31.44     33.25    ]\n",
            " [ 0.740139 30.83     31.44     33.25    ]\n",
            " ...\n",
            " [ 0.750114 81.06     81.7      75.25    ]\n",
            " [ 0.750299 82.       81.7      75.25    ]\n",
            " [ 0.750919 82.       81.7      75.25    ]]\n"
          ]
        }
      ],
      "source": [
        "'''The retuns are calculated, States are avaible and the action space are also presented the action space is the price direction '''\n",
        "import numpy as np\n",
        "\n",
        "States=numberr[:,:4]\n",
        "States=np.array(States)\n",
        "print(States)"
      ]
    },
    {
      "cell_type": "markdown",
      "source": [
        "## Returns"
      ],
      "metadata": {
        "id": "NKJy5jlxJcKk"
      }
    },
    {
      "cell_type": "code",
      "source": [
        "''''The retuns are calculated, States are available, the two forms the independent variable and the action space are also presented the actioin space ( dependent variable) is the price direction\n",
        "action space is the direction of the returns and the returns is the the differnce of the fuel price form aprevious chprious price. The reward  is defind as the absolut of the returns\n",
        "\n",
        "\n",
        "x=\n",
        "'''\n",
        "x=np.array(y)\n",
        "def returns(x):\n",
        "  import numpy as np\n",
        "  import array as arr\n",
        "  import pandas as pd\n",
        "  a =np.mean(x,axis=0)\n",
        "  yx=[]\n",
        "  xx=[]\n",
        "  xx= np.vstack((a,x))\n",
        "  xx=np.array(xx)\n",
        "  K=xx.shape[0]\n",
        "  L=xx.shape[1]\n",
        "  yxxxx=np.zeros((K-1,L))\n",
        "  for i in range(L):\n",
        "   for k in range(K-1):\n",
        "    yxxxx[k-1][i]=(xx[k+1,i]-xx[k,i])\n",
        "\n",
        "  print(yxxxx)\n",
        "  return yxxxx\n",
        "\n",
        "RRRR=returns(x)\n",
        "print(RRRR)\n",
        "RRRR.shape\n"
      ],
      "metadata": {
        "colab": {
          "base_uri": "https://localhost:8080/"
        },
        "id": "zpYp9adJJX9r",
        "outputId": "4d0dc74e-5033-41f5-90b2-5335253e5226"
      },
      "execution_count": null,
      "outputs": [
        {
          "output_type": "stream",
          "name": "stdout",
          "text": [
            "[[ 0.          0.          0.         ...  0.          0.\n",
            "   0.        ]\n",
            " [ 0.          0.          0.         ...  0.          0.\n",
            "   0.        ]\n",
            " [ 0.          0.          0.         ...  0.          0.\n",
            "   0.        ]\n",
            " ...\n",
            " [ 0.          0.          0.         ...  0.          0.\n",
            "   0.        ]\n",
            " [ 0.          0.          0.         ...  0.          0.\n",
            "   0.        ]\n",
            " [-1.07909071 -1.0426039  -1.06156244 ... -1.40414282 -1.06531267\n",
            "  -1.06311358]]\n",
            "[[ 0.          0.          0.         ...  0.          0.\n",
            "   0.        ]\n",
            " [ 0.          0.          0.         ...  0.          0.\n",
            "   0.        ]\n",
            " [ 0.          0.          0.         ...  0.          0.\n",
            "   0.        ]\n",
            " ...\n",
            " [ 0.          0.          0.         ...  0.          0.\n",
            "   0.        ]\n",
            " [ 0.          0.          0.         ...  0.          0.\n",
            "   0.        ]\n",
            " [-1.07909071 -1.0426039  -1.06156244 ... -1.40414282 -1.06531267\n",
            "  -1.06311358]]\n"
          ]
        },
        {
          "output_type": "execute_result",
          "data": {
            "text/plain": [
              "(7695, 9)"
            ]
          },
          "metadata": {},
          "execution_count": 7
        }
      ]
    },
    {
      "cell_type": "markdown",
      "metadata": {
        "id": "z2NwBab_qvvR"
      },
      "source": [
        "## Reward computation"
      ]
    },
    {
      "cell_type": "code",
      "execution_count": null,
      "metadata": {
        "colab": {
          "base_uri": "https://localhost:8080/"
        },
        "id": "_QGDLqXbY-A_",
        "outputId": "efb2d204-9b07-4e98-d850-03bc39fe2130"
      },
      "outputs": [
        {
          "output_type": "stream",
          "name": "stdout",
          "text": [
            "[[0.         0.         0.         ... 0.         0.         0.        ]\n",
            " [0.         0.         0.         ... 0.         0.         0.        ]\n",
            " [0.         0.         0.         ... 0.         0.         0.        ]\n",
            " ...\n",
            " [0.         0.         0.         ... 0.         0.         0.        ]\n",
            " [0.         0.         0.         ... 0.         0.         0.        ]\n",
            " [1.07909071 1.0426039  1.06156244 ... 1.40414282 1.06531267 1.06311358]]\n",
            "[[0.         0.         0.         ... 0.         0.         0.        ]\n",
            " [0.         0.         0.         ... 0.         0.         0.        ]\n",
            " [0.         0.         0.         ... 0.         0.         0.        ]\n",
            " ...\n",
            " [0.         0.         0.         ... 0.         0.         0.        ]\n",
            " [0.         0.         0.         ... 0.         0.         0.        ]\n",
            " [1.07909071 1.0426039  1.06156244 ... 1.40414282 1.06531267 1.06311358]]\n"
          ]
        },
        {
          "output_type": "execute_result",
          "data": {
            "text/plain": [
              "(7695, 9)"
            ]
          },
          "metadata": {},
          "execution_count": 12
        }
      ],
      "source": [
        "''''The retuns are calculated, States are available, the two forms the independent variable and the action space are also presented the actioin space ( dependent variable) is the price direction\n",
        "action space is the direction of the returns and the returns is the the differnce of the fuel price form aprevious chprious price. The reward  is defind as the absolut of the returns\n",
        "\n",
        "\n",
        "x=\n",
        "'''\n",
        "x=np.array(y)\n",
        "def reward(x):\n",
        "  import numpy as np\n",
        "  import array as arr\n",
        "  import pandas as pd\n",
        "  a =np.mean(x,axis=0)\n",
        "  yx=[]\n",
        "  xx=[]\n",
        "  xx= np.vstack((a,x))\n",
        "  xx=np.array(xx)\n",
        "  K=xx.shape[0]\n",
        "  L=xx.shape[1]\n",
        "  yxx=np.zeros((K-1,L))\n",
        "  for i in range(L):\n",
        "   for k in range(K-1):\n",
        "    yxx[k-1][i]=abs(xx[k+1,i]-xx[k,i])\n",
        "\n",
        "  print(yxx)\n",
        "  return yxx\n",
        "\n",
        "RRw=reward(x)\n",
        "print(RRw)\n",
        "RRw.shape\n"
      ]
    },
    {
      "cell_type": "markdown",
      "metadata": {
        "id": "-9a8N7vHa0E2"
      },
      "source": [
        "## Calculating Action Space"
      ]
    },
    {
      "cell_type": "code",
      "execution_count": null,
      "metadata": {
        "colab": {
          "base_uri": "https://localhost:8080/"
        },
        "id": "3rbm4Sd_acaS",
        "outputId": "b3017e19-b40b-4a97-e229-a68f0a2abcbc"
      },
      "outputs": [
        {
          "output_type": "stream",
          "name": "stdout",
          "text": [
            "[[1. 1. 1. ... 1. 1. 1.]\n",
            " [1. 1. 1. ... 1. 1. 1.]\n",
            " [2. 2. 2. ... 2. 2. 2.]\n",
            " ...\n",
            " [1. 1. 1. ... 1. 1. 1.]\n",
            " [2. 2. 2. ... 2. 2. 2.]\n",
            " [0. 0. 0. ... 0. 0. 0.]]\n",
            "[[1. 1. 1. ... 1. 1. 1.]\n",
            " [1. 1. 1. ... 1. 1. 1.]\n",
            " [2. 2. 2. ... 2. 2. 2.]\n",
            " ...\n",
            " [1. 1. 1. ... 1. 1. 1.]\n",
            " [2. 2. 2. ... 2. 2. 2.]\n",
            " [0. 0. 0. ... 0. 0. 0.]]\n"
          ]
        },
        {
          "output_type": "execute_result",
          "data": {
            "text/plain": [
              "(7695, 9)"
            ]
          },
          "metadata": {},
          "execution_count": 13
        }
      ],
      "source": [
        "#There are three action space which are up(+1), no change(0) and down(-1).\n",
        "#We convert them to a (0,1, 2) space using the equation below  by addding 1.\n",
        "#Apply actionss\n",
        "        # 0 -1 = -1\n",
        "        # 1 -1 = 0\n",
        "        # 2 -1 = 1\n",
        "\"áctionssss finds the sign of the element of the matrix number\"\n",
        "def actionspace(x):\n",
        "  import numpy as np\n",
        "  import array as arr\n",
        "  import pandas as pd\n",
        "  a =np.mean(x,axis=0)\n",
        "  yx=[]\n",
        "  xx=[]\n",
        "  xx= np.vstack((a,x))\n",
        "  xx=np.array(xx)\n",
        "  K=xx.shape[0]\n",
        "  L=xx.shape[1]\n",
        "  yxx=np.zeros((K-1,L))\n",
        "  for i in range(L):\n",
        "   for k in range(K-1):\n",
        "    yx=xx[k+1,i]-xx[k,i]\n",
        "    if yx>0:\n",
        "      yxx[k-1][i]=2\n",
        "    elif yx<0:\n",
        "      yxx[k-1][i]=0\n",
        "    else:\n",
        "      yxx[k-1][i]=1\n",
        "  print(yxx)\n",
        "  return yxx\n",
        "\n",
        "action= actionspace(RRw)\n",
        "print(action)\n",
        "action.shape\n",
        "\n",
        "\n"
      ]
    },
    {
      "cell_type": "markdown",
      "metadata": {
        "id": "jRXM-swcC5Eb"
      },
      "source": [
        "## Calculating Probability of Action space\n",
        "\n",
        "\n",
        "\n",
        "\n",
        "\n",
        "\n",
        "\n"
      ]
    },
    {
      "cell_type": "code",
      "execution_count": null,
      "metadata": {
        "id": "u2VR_7XoSgiK",
        "colab": {
          "base_uri": "https://localhost:8080/"
        },
        "outputId": "4c861427-7654-4c37-d430-8cbce4b8b8eb"
      },
      "outputs": [
        {
          "output_type": "stream",
          "name": "stdout",
          "text": [
            "Drive already mounted at /content/drive; to attempt to forcibly remount, call drive.mount(\"/content/drive\", force_remount=True).\n"
          ]
        }
      ],
      "source": [
        "import numpy as np\n",
        "from google.colab import drive\n",
        "drive.mount('/content/drive')\n",
        "import pandas as pd\n",
        "import time\n",
        "import collections\n",
        "from collections import Counter\n",
        "K=action.shape[0]\n",
        "L=action.shape[1]\n",
        "ps=[]\n",
        "def probabilityaction(action):\n",
        "  for i in range(L):\n",
        "    ps.append(Counter(action[:,i]))\n",
        "  pss=pd.DataFrame(ps)\n",
        "  psss=pss.div(K)\n",
        "  #print(psss)\n",
        "  probaction=np.zeros((K,L))\n",
        "  for i in range(len(ps)):\n",
        "     for j in range(K):\n",
        "        if action[j,i] == 0:\n",
        "          probaction[j,i] = psss.iat[i,2]\n",
        "        elif action[j,i] ==1:\n",
        "          probaction[j,i] =psss.iat[i,0]\n",
        "        else:\n",
        "          probaction[j,i]=psss.iat[i,1]\n",
        "        j += 1\n",
        "     i+=1\n",
        "  return probaction\n"
      ]
    },
    {
      "cell_type": "code",
      "execution_count": null,
      "metadata": {
        "colab": {
          "base_uri": "https://localhost:8080/"
        },
        "id": "3Ad-NHXWRFWW",
        "outputId": "6254d135-f456-4e0e-9d01-90ff38fd5be7"
      },
      "outputs": [
        {
          "output_type": "stream",
          "name": "stdout",
          "text": [
            "[[0.18037687 0.1814165  0.18076673 ... 0.18154646 0.18063678 0.18128655]\n",
            " [0.18037687 0.1814165  0.18076673 ... 0.18154646 0.18063678 0.18128655]\n",
            " [0.40844704 0.40870695 0.41130604 ... 0.41052632 0.41104613 0.40610786]\n",
            " ...\n",
            " [0.18037687 0.1814165  0.18076673 ... 0.18154646 0.18063678 0.18128655]\n",
            " [0.40844704 0.40870695 0.41130604 ... 0.41052632 0.41104613 0.40610786]\n",
            " [0.41117609 0.40987654 0.40792723 ... 0.40792723 0.40831709 0.41260559]]\n"
          ]
        }
      ],
      "source": [
        "ppp=probabilityaction(action )\n",
        "print(ppp)"
      ]
    },
    {
      "cell_type": "markdown",
      "metadata": {
        "id": "NHV5fy6AaxnI"
      },
      "source": [
        "##Agregating  computed variables varibles for preprossesing; Concantenating  Rewards,  Actions and Probabilty space  "
      ]
    },
    {
      "cell_type": "code",
      "execution_count": null,
      "metadata": {
        "colab": {
          "base_uri": "https://localhost:8080/"
        },
        "id": "FAfNZeOlarp_",
        "outputId": "00cfaff7-e707-48e8-ea21-75ac8fe8c8eb"
      },
      "outputs": [
        {
          "output_type": "stream",
          "name": "stdout",
          "text": [
            "[[0.         0.         0.         ... 1.         1.         1.        ]\n",
            " [0.         0.         0.         ... 1.         1.         1.        ]\n",
            " [0.         0.         0.         ... 2.         2.         2.        ]\n",
            " ...\n",
            " [0.         0.         0.         ... 1.         1.         1.        ]\n",
            " [0.         0.         0.         ... 2.         2.         2.        ]\n",
            " [1.07909071 1.0426039  1.06156244 ... 0.         0.         0.        ]]\n"
          ]
        },
        {
          "output_type": "execute_result",
          "data": {
            "text/plain": [
              "(7695, 18)"
            ]
          },
          "metadata": {},
          "execution_count": 16
        }
      ],
      "source": [
        "\"\"\"Normaliztion will be passed to the Neural network as which does it. \"\"\"\n",
        "\n",
        "##Normalizing Variables\n",
        "from sklearn.preprocessing import normalize\n",
        "Indep=np.hstack((RRw,action))\n",
        "print(Indep)\n",
        "#normalize matrix by rows\n",
        "#Indep = normalize(Indep, axis=1, norm='l2')\n",
        "#view normalized matrix\n",
        "#print(Indep)\n",
        "Indep.shape"
      ]
    },
    {
      "cell_type": "markdown",
      "metadata": {
        "id": "nJg1-0qcbstz"
      },
      "source": [
        "## Concantenating All Variables\n",
        "\n",
        "\n",
        "\n",
        "\n",
        "\n"
      ]
    },
    {
      "cell_type": "code",
      "execution_count": null,
      "metadata": {
        "id": "1kcgjeoFX7Y1"
      },
      "outputs": [],
      "source": [
        "Variables=np.hstack((dffffff,Indep))\n",
        "Variables.shape\n",
        "Var_df=pd.DataFrame(Variables)\n"
      ]
    },
    {
      "cell_type": "code",
      "source": [
        "from sklearn.model_selection import train_test_split\n",
        "import tensorflow as tf\n",
        "from tensorflow.keras import Model\n",
        "from tensorflow.keras.layers import Dense\n",
        "import numpy as np\n",
        "import matplotlib.pyplot as plt\n",
        "from sklearn.preprocessing import StandardScaler\n",
        "import torch\n",
        "from torch import tensor\n",
        "import pandas as pd\n",
        "''' Variables=(S r A)\n",
        "number is made up of S, we'ved  worked out A, P(s_(t+1)) and r u  using  some\n",
        "states,\n",
        "\n",
        "# We stack r to S\n",
        "# For the model, Action-space is the dependent variable\n",
        "# We concatenate S and r to become the independent variable\n",
        "'''\n",
        "\n",
        "Variables.shape\n",
        "VariablesPandas=pd.DataFrame(Variables)\n",
        "vvmm=VariablesPandas.describe()\n",
        "print(vvmm)\n",
        "K=len(Variables[1])\n",
        "M=len(Variables)\n",
        "I=int((K-4)/3)\n",
        "GGG=np.empty((M,7,I))\n",
        "i=0\n",
        "\n",
        "\n",
        "\n",
        "y = Variables[:,13:]\n",
        "\n",
        "for i in range(I):\n",
        "  ##States: Crude oil prices, Forex\n",
        "  St=Variables[:,:int(4)]\n",
        "  ##Fuel price\n",
        "  Fp =(Variables[:, int(4 + I * 0 + i):int(5 + I * 0 + i)])\n",
        "  # Reward\n",
        "  RRw =(Variables[:, int(4 + I * 1 + i):int(5 + I * 1 + i)])\n",
        "  # Action space,\n",
        "  Act=(Variables[:, int(4 + I * 2 + i):int(5 + I * 2 + i)])\n",
        "  ##Probability space\n",
        " # Prob=(Variables[:, int(4+I*3+i):int(5+I*3+i)])\n",
        "  vvv=np.hstack((St,Fp,RRw, Act ))\n",
        "  vvv=np.array(vvv)\n",
        "  GGG[0:,0:,i]=vvv\n",
        "  i+=1\n",
        "\n",
        "  #vvv=np.hstack((Variables[:,:4+i],Variables[:,4+I*1+i:5+I*1+i],Variables[:,4+I*2+i:5+I*2+i],Variables[:,4+I*3+i:5+I*3+i]))\n",
        "\n",
        "\n",
        "\n",
        "\n",
        "\n",
        "GGG=torch.tensor(GGG, device=torch.device('cpu'),dtype=torch.float32)\n",
        "GGG.reshape(-1,1)\n",
        "\n",
        "\n",
        "training_GGG,test_GGG = train_test_split(GGG, train_size =0.5, random_state=0)\n",
        "\n",
        "\n",
        "print(training_GGG)\n",
        "print(test_GGG)\n",
        "DataDic=[training_GGG, test_GGG, GGG]\n",
        "with open ('/content/drive/MyDrive/deep learning codes/EIAAPI_DOWNLOAD/solutions/mergedata/DataDic.pt', 'wb') as fpsp:\n",
        "  torch.save(DataDic, fpsp)"
      ],
      "metadata": {
        "colab": {
          "base_uri": "https://localhost:8080/"
        },
        "id": "oKR6_g-iInVl",
        "outputId": "a90e33e9-558e-4311-8e83-049fbb17747f"
      },
      "execution_count": null,
      "outputs": [
        {
          "output_type": "stream",
          "name": "stdout",
          "text": [
            "                0            1            2            3            4   \\\n",
            "count  7695.000000  7695.000000  7695.000000  7695.000000  7695.000000   \n",
            "mean      0.688006    69.883288    71.904144    68.269891     1.947091   \n",
            "std       0.038017    26.419639    26.720515    23.454819     0.816054   \n",
            "min       0.605660    12.220000     9.120000   -36.970000     0.228000   \n",
            "25%       0.655161    49.600000    51.300000    49.680000     1.348000   \n",
            "50%       0.688649    66.940000    68.940000    66.200000     1.880000   \n",
            "75%       0.718610    90.940000    92.080000    86.600000     2.575500   \n",
            "max       0.789356   140.800000   144.000000   145.200000     5.009000   \n",
            "\n",
            "                5            6            7            8            9   ...  \\\n",
            "count  7695.000000  7695.000000  7695.000000  7695.000000  7695.000000  ...   \n",
            "mean      1.947604     1.941562     1.961945     1.967427     1.956298  ...   \n",
            "std       0.805367     0.808749     0.810041     0.811734     0.799045  ...   \n",
            "min       0.203000     0.245000     0.218000     0.274000     0.293000  ...   \n",
            "25%       1.359000     1.331000     1.374000     1.369500     1.373000  ...   \n",
            "50%       1.873000     1.877000     1.895000     1.912000     1.885000  ...   \n",
            "75%       2.553000     2.547500     2.581500     2.574000     2.565000  ...   \n",
            "max       5.161000     5.339000     5.066000     5.339000     5.071000  ...   \n",
            "\n",
            "                21           22           23           24           25  \\\n",
            "count  7695.000000  7695.000000  7695.000000  7695.000000  7695.000000   \n",
            "mean      0.241901     0.997271     0.998830     1.003379     1.003639   \n",
            "std       0.460585     0.905385     0.904814     0.905168     0.905597   \n",
            "min       0.000000     0.000000     0.000000     0.000000     0.000000   \n",
            "25%       0.000000     0.000000     0.000000     0.000000     0.000000   \n",
            "50%       0.045000     1.000000     1.000000     1.000000     1.000000   \n",
            "75%       0.221000     2.000000     2.000000     2.000000     2.000000   \n",
            "max       3.905000     2.000000     2.000000     2.000000     2.000000   \n",
            "\n",
            "                26           27           28           29           30  \n",
            "count  7695.000000  7695.000000  7695.000000  7695.000000  7695.000000  \n",
            "mean      1.008447     1.005588     1.002599     1.002729     0.993502  \n",
            "std       0.904775     0.904798     0.904739     0.905242     0.904863  \n",
            "min       0.000000     0.000000     0.000000     0.000000     0.000000  \n",
            "25%       0.000000     0.000000     0.000000     0.000000     0.000000  \n",
            "50%       1.000000     1.000000     1.000000     1.000000     1.000000  \n",
            "75%       2.000000     2.000000     2.000000     2.000000     2.000000  \n",
            "max       2.000000     2.000000     2.000000     2.000000     2.000000  \n",
            "\n",
            "[8 rows x 31 columns]\n",
            "tensor([[[7.1178e-01, 7.1178e-01, 7.1178e-01,  ..., 7.1178e-01,\n",
            "          7.1178e-01, 7.1178e-01],\n",
            "         [7.4900e+01, 7.4900e+01, 7.4900e+01,  ..., 7.4900e+01,\n",
            "          7.4900e+01, 7.4900e+01],\n",
            "         [7.6250e+01, 7.6250e+01, 7.6250e+01,  ..., 7.6250e+01,\n",
            "          7.6250e+01, 7.6250e+01],\n",
            "         ...,\n",
            "         [2.1340e+00, 2.2310e+00, 2.1140e+00,  ..., 2.1770e+00,\n",
            "          2.0370e+00, 2.1170e+00],\n",
            "         [2.9000e-02, 1.9100e-01, 3.4000e-02,  ..., 2.6000e-02,\n",
            "          8.0000e-02, 1.1200e-01],\n",
            "         [0.0000e+00, 0.0000e+00, 0.0000e+00,  ..., 0.0000e+00,\n",
            "          0.0000e+00, 0.0000e+00]],\n",
            "\n",
            "        [[6.4858e-01, 6.4858e-01, 6.4858e-01,  ..., 6.4858e-01,\n",
            "          6.4858e-01, 6.4858e-01],\n",
            "         [1.2280e+02, 1.2280e+02, 1.2280e+02,  ..., 1.2280e+02,\n",
            "          1.2280e+02, 1.2280e+02],\n",
            "         [1.2520e+02, 1.2520e+02, 1.2520e+02,  ..., 1.2520e+02,\n",
            "          1.2520e+02, 1.2520e+02],\n",
            "         ...,\n",
            "         [1.2840e+00, 3.3790e+00, 3.2880e+00,  ..., 3.2620e+00,\n",
            "          3.2760e+00, 3.3480e+00],\n",
            "         [2.0560e+00, 9.9000e-02, 2.0090e+00,  ..., 4.1000e-02,\n",
            "          7.0000e-03, 1.3400e-01],\n",
            "         [0.0000e+00, 0.0000e+00, 2.0000e+00,  ..., 2.0000e+00,\n",
            "          2.0000e+00, 0.0000e+00]],\n",
            "\n",
            "        [[6.6609e-01, 6.6609e-01, 6.6609e-01,  ..., 6.6609e-01,\n",
            "          6.6609e-01, 6.6609e-01],\n",
            "         [1.0310e+02, 1.0310e+02, 1.0310e+02,  ..., 1.0310e+02,\n",
            "          1.0310e+02, 1.0310e+02],\n",
            "         [1.0400e+02, 1.0400e+02, 1.0400e+02,  ..., 1.0400e+02,\n",
            "          1.0400e+02, 1.0400e+02],\n",
            "         ...,\n",
            "         [2.6380e+00, 9.0900e-01, 2.9720e+00,  ..., 2.8820e+00,\n",
            "          2.9320e+00, 2.9450e+00],\n",
            "         [0.0000e+00, 0.0000e+00, 0.0000e+00,  ..., 0.0000e+00,\n",
            "          0.0000e+00, 0.0000e+00],\n",
            "         [1.0000e+00, 1.0000e+00, 1.0000e+00,  ..., 1.0000e+00,\n",
            "          1.0000e+00, 1.0000e+00]],\n",
            "\n",
            "        ...,\n",
            "\n",
            "        [[6.5339e-01, 6.5339e-01, 6.5339e-01,  ..., 6.5339e-01,\n",
            "          6.5339e-01, 6.5339e-01],\n",
            "         [7.2700e+01, 7.2700e+01, 7.2700e+01,  ..., 7.2700e+01,\n",
            "          7.2700e+01, 7.2700e+01],\n",
            "         [7.8100e+01, 7.8100e+01, 7.8100e+01,  ..., 7.8100e+01,\n",
            "          7.8100e+01, 7.8100e+01],\n",
            "         ...,\n",
            "         [2.3490e+00, 2.0520e+00, 2.0710e+00,  ..., 1.2030e+00,\n",
            "          1.1930e+00, 2.1670e+00],\n",
            "         [0.0000e+00, 0.0000e+00, 0.0000e+00,  ..., 0.0000e+00,\n",
            "          0.0000e+00, 0.0000e+00],\n",
            "         [1.0000e+00, 1.0000e+00, 1.0000e+00,  ..., 1.0000e+00,\n",
            "          1.0000e+00, 1.0000e+00]],\n",
            "\n",
            "        [[6.5589e-01, 6.5589e-01, 6.5589e-01,  ..., 6.5589e-01,\n",
            "          6.5589e-01, 6.5589e-01],\n",
            "         [7.5200e+01, 7.5200e+01, 7.5200e+01,  ..., 7.5200e+01,\n",
            "          7.5200e+01, 7.5200e+01],\n",
            "         [7.6900e+01, 7.6900e+01, 7.6900e+01,  ..., 7.6900e+01,\n",
            "          7.6900e+01, 7.6900e+01],\n",
            "         ...,\n",
            "         [2.0830e+00, 2.1250e+00, 1.2490e+00,  ..., 2.1130e+00,\n",
            "          1.2440e+00, 2.1230e+00],\n",
            "         [2.2000e-02, 5.4000e-02, 4.0000e-03,  ..., 1.0000e-02,\n",
            "          8.6400e-01, 6.5000e-02],\n",
            "         [0.0000e+00, 2.0000e+00, 2.0000e+00,  ..., 2.0000e+00,\n",
            "          0.0000e+00, 0.0000e+00]],\n",
            "\n",
            "        [[6.7774e-01, 6.7774e-01, 6.7774e-01,  ..., 6.7774e-01,\n",
            "          6.7774e-01, 6.7774e-01],\n",
            "         [7.3800e+01, 7.3800e+01, 7.3800e+01,  ..., 7.3800e+01,\n",
            "          7.3800e+01, 7.3800e+01],\n",
            "         [7.6200e+01, 7.6200e+01, 7.6200e+01,  ..., 7.6200e+01,\n",
            "          7.6200e+01, 7.6200e+01],\n",
            "         ...,\n",
            "         [2.0980e+00, 2.1050e+00, 1.0120e+00,  ..., 2.0640e+00,\n",
            "          1.0230e+00, 2.2300e+00],\n",
            "         [0.0000e+00, 0.0000e+00, 0.0000e+00,  ..., 0.0000e+00,\n",
            "          0.0000e+00, 0.0000e+00],\n",
            "         [2.0000e+00, 2.0000e+00, 2.0000e+00,  ..., 2.0000e+00,\n",
            "          2.0000e+00, 2.0000e+00]]])\n",
            "tensor([[[7.2432e-01, 7.2432e-01, 7.2432e-01,  ..., 7.2432e-01,\n",
            "          7.2432e-01, 7.2432e-01],\n",
            "         [5.0900e+01, 5.0900e+01, 5.0900e+01,  ..., 5.0900e+01,\n",
            "          5.0900e+01, 5.0900e+01],\n",
            "         [5.2780e+01, 5.2780e+01, 5.2780e+01,  ..., 5.2780e+01,\n",
            "          5.2780e+01, 5.2780e+01],\n",
            "         ...,\n",
            "         [1.6110e+00, 1.5930e+00, 1.5980e+00,  ..., 1.4730e+00,\n",
            "          1.5740e+00, 1.5200e+00],\n",
            "         [7.4000e-02, 9.3300e-01, 1.0000e-01,  ..., 4.2700e-01,\n",
            "          8.5000e-02, 1.3000e-01],\n",
            "         [2.0000e+00, 2.0000e+00, 2.0000e+00,  ..., 0.0000e+00,\n",
            "          2.0000e+00, 0.0000e+00]],\n",
            "\n",
            "        [[7.0816e-01, 7.0816e-01, 7.0816e-01,  ..., 7.0816e-01,\n",
            "          7.0816e-01, 7.0816e-01],\n",
            "         [5.9970e+01, 5.9970e+01, 5.9970e+01,  ..., 5.9970e+01,\n",
            "          5.9970e+01, 5.9970e+01],\n",
            "         [5.9400e+01, 5.9400e+01, 5.9400e+01,  ..., 5.9400e+01,\n",
            "          5.9400e+01, 5.9400e+01],\n",
            "         ...,\n",
            "         [2.0030e+00, 1.9850e+00, 1.7490e+00,  ..., 1.6980e+00,\n",
            "          1.8630e+00, 1.8780e+00],\n",
            "         [1.0100e-01, 2.4100e-01, 3.3000e-02,  ..., 4.6000e-02,\n",
            "          6.0000e-03, 2.0900e-01],\n",
            "         [0.0000e+00, 2.0000e+00, 2.0000e+00,  ..., 2.0000e+00,\n",
            "          2.0000e+00, 2.0000e+00]],\n",
            "\n",
            "        [[6.6096e-01, 6.6096e-01, 6.6096e-01,  ..., 6.6096e-01,\n",
            "          6.6096e-01, 6.6096e-01],\n",
            "         [7.4440e+01, 7.4440e+01, 7.4440e+01,  ..., 7.4440e+01,\n",
            "          7.4440e+01, 7.4440e+01],\n",
            "         [7.7250e+01, 7.7250e+01, 7.7250e+01,  ..., 7.7250e+01,\n",
            "          7.7250e+01, 7.7250e+01],\n",
            "         ...,\n",
            "         [2.0880e+00, 2.0790e+00, 2.1430e+00,  ..., 2.3340e+00,\n",
            "          1.0450e+00, 2.0540e+00],\n",
            "         [0.0000e+00, 0.0000e+00, 0.0000e+00,  ..., 0.0000e+00,\n",
            "          0.0000e+00, 0.0000e+00],\n",
            "         [2.0000e+00, 2.0000e+00, 2.0000e+00,  ..., 2.0000e+00,\n",
            "          2.0000e+00, 2.0000e+00]],\n",
            "\n",
            "        ...,\n",
            "\n",
            "        [[6.8281e-01, 6.8281e-01, 6.8281e-01,  ..., 6.8281e-01,\n",
            "          6.8281e-01, 6.8281e-01],\n",
            "         [3.1810e+01, 3.1810e+01, 3.1810e+01,  ..., 3.1810e+01,\n",
            "          3.1810e+01, 3.1810e+01],\n",
            "         [3.3300e+01, 3.3300e+01, 3.3300e+01,  ..., 3.3300e+01,\n",
            "          3.3300e+01, 3.3300e+01],\n",
            "         ...,\n",
            "         [1.3750e+00, 9.4400e-01, 1.3300e+00,  ..., 5.7900e-01,\n",
            "          1.0750e+00, 1.0770e+00],\n",
            "         [4.4800e-01, 1.6600e-01, 2.4500e-01,  ..., 4.9600e-01,\n",
            "          2.3500e-01, 4.9200e-01],\n",
            "         [0.0000e+00, 2.0000e+00, 2.0000e+00,  ..., 0.0000e+00,\n",
            "          2.0000e+00, 0.0000e+00]],\n",
            "\n",
            "        [[6.8891e-01, 6.8891e-01, 6.8891e-01,  ..., 6.8891e-01,\n",
            "          6.8891e-01, 6.8891e-01],\n",
            "         [6.4500e+01, 6.4500e+01, 6.4500e+01,  ..., 6.4500e+01,\n",
            "          6.4500e+01, 6.4500e+01],\n",
            "         [6.6060e+01, 6.6060e+01, 6.6060e+01,  ..., 6.6060e+01,\n",
            "          6.6060e+01, 6.6060e+01],\n",
            "         ...,\n",
            "         [1.9850e+00, 1.9810e+00, 2.1940e+00,  ..., 2.1890e+00,\n",
            "          7.6800e-01, 1.9230e+00],\n",
            "         [6.9000e-02, 6.6000e-02, 2.7400e-01,  ..., 3.1800e-01,\n",
            "          1.1230e+00, 1.8000e-02],\n",
            "         [0.0000e+00, 2.0000e+00, 0.0000e+00,  ..., 0.0000e+00,\n",
            "          0.0000e+00, 2.0000e+00]],\n",
            "\n",
            "        [[6.7296e-01, 6.7296e-01, 6.7296e-01,  ..., 6.7296e-01,\n",
            "          6.7296e-01, 6.7296e-01],\n",
            "         [2.9880e+01, 2.9880e+01, 2.9880e+01,  ..., 2.9880e+01,\n",
            "          2.9880e+01, 2.9880e+01],\n",
            "         [3.0300e+01, 3.0300e+01, 3.0300e+01,  ..., 3.0300e+01,\n",
            "          3.0300e+01, 3.0300e+01],\n",
            "         ...,\n",
            "         [8.5200e-01, 1.0600e+00, 8.2300e-01,  ..., 8.5800e-01,\n",
            "          9.4000e-01, 8.6300e-01],\n",
            "         [0.0000e+00, 0.0000e+00, 0.0000e+00,  ..., 0.0000e+00,\n",
            "          0.0000e+00, 0.0000e+00],\n",
            "         [1.0000e+00, 1.0000e+00, 1.0000e+00,  ..., 1.0000e+00,\n",
            "          1.0000e+00, 1.0000e+00]]])\n"
          ]
        }
      ]
    },
    {
      "cell_type": "markdown",
      "source": [
        "## Define labels/Targets/Dependent and Feateurs/Independent vairables Input structured into Tuples of Features  and Targets for Policy function"
      ],
      "metadata": {
        "id": "kKfSGQgU0NC_"
      }
    },
    {
      "cell_type": "code",
      "execution_count": null,
      "metadata": {
        "id": "7V-KD4IS8Nle"
      },
      "outputs": [],
      "source": [
        "#States: 0==Forex, 1=OPEC,2==Brent 3==WTI, 4=Fuelprice\n",
        "\n",
        "def predata(x):\n",
        "  import os\n",
        "  import pandas as pd\n",
        "  from torchvision.io import read_image\n",
        "  from torch import tensor\n",
        "  from torchvision.transforms import ToTensor\n",
        "  from torch.utils.data import DataLoader\n",
        "  GGG=x\n",
        "\n",
        "  i=0\n",
        "  GGGGG=[]\n",
        "  K=x.shape[2]\n",
        "\n",
        "  for i in range(K):\n",
        "    GGGG=x[:,:,i]\n",
        "\n",
        "\n",
        "\n",
        "    images = GGGG[0:,0:5]\n",
        "    images.index_add\n",
        "\n",
        "    image = images.clone().detach()\n",
        "    #GGGGG.append(image, reshape(label,(-1,1)))\n",
        "    GGGGG.append((image))\n",
        "\n",
        "\n",
        "    i += 1\n",
        "  # return train_dataloader,test_dataloader\n",
        "    GGGGG\n",
        "  return GGGGG"
      ]
    },
    {
      "cell_type": "markdown",
      "source": [],
      "metadata": {
        "id": "sfIIjxn2z2y9"
      }
    },
    {
      "cell_type": "code",
      "source": [
        "#States: 0==Forex, 1=OPEC,2==Brent 3==WTI, 4=Fuelprice  5==Reward space  6==action space 7==Probability space\n",
        "\n",
        "def predataP(x):\n",
        "  import os\n",
        "  import pandas as pd\n",
        "  from torchvision.io import read_image\n",
        "  from torch import tensor\n",
        "  from torchvision.transforms import ToTensor\n",
        "  from torch.utils.data import DataLoader\n",
        "  GGG=x\n",
        "\n",
        "  i=0\n",
        "  GGGGG=[]\n",
        "  K=x.shape[2]\n",
        "\n",
        "  for i in range(K):\n",
        "    GGGG=x[:,:,i]\n",
        "\n",
        "\n",
        "\n",
        "    images = GGGG[0:,0:5]\n",
        "    images.index_add\n",
        "\n",
        "    image = images.clone().detach()\n",
        "    #GGGGG.append(image, reshape(label,(-1,1)))\n",
        "    GGGGG.append((image))\n",
        "\n",
        "\n",
        "    i += 1\n",
        "  # return train_dataloader,test_dataloader\n",
        "    GGGGG\n",
        "  return GGGGG\n",
        "\n",
        "\n"
      ],
      "metadata": {
        "id": "G_Cs2W-3sIVk"
      },
      "execution_count": null,
      "outputs": []
    },
    {
      "cell_type": "code",
      "source": [
        "GGGGGenv=predataP(GGG)\n",
        "with open ('/content/drive/MyDrive/deep learning codes/EIAAPI_DOWNLOAD/solutions/mergedata/GGGGGenv.pt', 'wb') as fpsp:\n",
        "  torch.save(GGGGGenv, fpsp)"
      ],
      "metadata": {
        "id": "ddDbq7DjTOvR"
      },
      "execution_count": null,
      "outputs": []
    },
    {
      "cell_type": "markdown",
      "source": [
        "#Train_data_Policy"
      ],
      "metadata": {
        "id": "q5F0D1uZtbkv"
      }
    },
    {
      "cell_type": "code",
      "execution_count": null,
      "metadata": {
        "id": "EYzSgqhPWUMQ",
        "colab": {
          "base_uri": "https://localhost:8080/"
        },
        "outputId": "f2e540a1-3b11-4c90-9f31-58489d560bf2"
      },
      "outputs": [
        {
          "output_type": "stream",
          "name": "stdout",
          "text": [
            "[tensor([[  0.7118,  74.9000,  76.2500,  73.4400,   2.1340],\n",
            "        [  0.6486, 122.8000, 125.2000, 106.4400,   1.2840],\n",
            "        [  0.6661, 103.1000, 104.0000,  92.7500,   2.6380],\n",
            "        ...,\n",
            "        [  0.6534,  72.7000,  78.1000,  73.9000,   2.3490],\n",
            "        [  0.6559,  75.2000,  76.9000,  79.7500,   2.0830],\n",
            "        [  0.6777,  73.8000,  76.2000,  78.4400,   2.0980]]), tensor([[  0.7118,  74.9000,  76.2500,  73.4400,   2.2310],\n",
            "        [  0.6486, 122.8000, 125.2000, 106.4400,   3.3790],\n",
            "        [  0.6661, 103.1000, 104.0000,  92.7500,   0.9090],\n",
            "        ...,\n",
            "        [  0.6534,  72.7000,  78.1000,  73.9000,   2.0520],\n",
            "        [  0.6559,  75.2000,  76.9000,  79.7500,   2.1250],\n",
            "        [  0.6777,  73.8000,  76.2000,  78.4400,   2.1050]]), tensor([[  0.7118,  74.9000,  76.2500,  73.4400,   2.1140],\n",
            "        [  0.6486, 122.8000, 125.2000, 106.4400,   3.2880],\n",
            "        [  0.6661, 103.1000, 104.0000,  92.7500,   2.9720],\n",
            "        ...,\n",
            "        [  0.6534,  72.7000,  78.1000,  73.9000,   2.0710],\n",
            "        [  0.6559,  75.2000,  76.9000,  79.7500,   1.2490],\n",
            "        [  0.6777,  73.8000,  76.2000,  78.4400,   1.0120]]), tensor([[  0.7118,  74.9000,  76.2500,  73.4400,   0.9380],\n",
            "        [  0.6486, 122.8000, 125.2000, 106.4400,   3.1870],\n",
            "        [  0.6661, 103.1000, 104.0000,  92.7500,   2.6630],\n",
            "        ...,\n",
            "        [  0.6534,  72.7000,  78.1000,  73.9000,   2.2710],\n",
            "        [  0.6559,  75.2000,  76.9000,  79.7500,   2.0860],\n",
            "        [  0.6777,  73.8000,  76.2000,  78.4400,   2.1230]]), tensor([[  0.7118,  74.9000,  76.2500,  73.4400,   2.1800],\n",
            "        [  0.6486, 122.8000, 125.2000, 106.4400,   3.2360],\n",
            "        [  0.6661, 103.1000, 104.0000,  92.7500,   2.8200],\n",
            "        ...,\n",
            "        [  0.6534,  72.7000,  78.1000,  73.9000,   2.3270],\n",
            "        [  0.6559,  75.2000,  76.9000,  79.7500,   2.0860],\n",
            "        [  0.6777,  73.8000,  76.2000,  78.4400,   2.2130]]), tensor([[  0.7118,  74.9000,  76.2500,  73.4400,   2.1300],\n",
            "        [  0.6486, 122.8000, 125.2000, 106.4400,   3.3110],\n",
            "        [  0.6661, 103.1000, 104.0000,  92.7500,   2.8880],\n",
            "        ...,\n",
            "        [  0.6534,  72.7000,  78.1000,  73.9000,   2.0700],\n",
            "        [  0.6559,  75.2000,  76.9000,  79.7500,   2.0730],\n",
            "        [  0.6777,  73.8000,  76.2000,  78.4400,   2.1350]]), tensor([[  0.7118,  74.9000,  76.2500,  73.4400,   2.1770],\n",
            "        [  0.6486, 122.8000, 125.2000, 106.4400,   3.2620],\n",
            "        [  0.6661, 103.1000, 104.0000,  92.7500,   2.8820],\n",
            "        ...,\n",
            "        [  0.6534,  72.7000,  78.1000,  73.9000,   1.2030],\n",
            "        [  0.6559,  75.2000,  76.9000,  79.7500,   2.1130],\n",
            "        [  0.6777,  73.8000,  76.2000,  78.4400,   2.0640]]), tensor([[  0.7118,  74.9000,  76.2500,  73.4400,   2.0370],\n",
            "        [  0.6486, 122.8000, 125.2000, 106.4400,   3.2760],\n",
            "        [  0.6661, 103.1000, 104.0000,  92.7500,   2.9320],\n",
            "        ...,\n",
            "        [  0.6534,  72.7000,  78.1000,  73.9000,   1.1930],\n",
            "        [  0.6559,  75.2000,  76.9000,  79.7500,   1.2440],\n",
            "        [  0.6777,  73.8000,  76.2000,  78.4400,   1.0230]]), tensor([[  0.7118,  74.9000,  76.2500,  73.4400,   2.1170],\n",
            "        [  0.6486, 122.8000, 125.2000, 106.4400,   3.3480],\n",
            "        [  0.6661, 103.1000, 104.0000,  92.7500,   2.9450],\n",
            "        ...,\n",
            "        [  0.6534,  72.7000,  78.1000,  73.9000,   2.1670],\n",
            "        [  0.6559,  75.2000,  76.9000,  79.7500,   2.1230],\n",
            "        [  0.6777,  73.8000,  76.2000,  78.4400,   2.2300]])]\n"
          ]
        }
      ],
      "source": [
        "tttrains_DataGGGP=predataP(training_GGG)\n",
        "\n",
        "print(tttrains_DataGGGP)\n",
        "with open ('/content/drive/MyDrive/deep learning codes/EIAAPI_DOWNLOAD/solutions/mergedata/tttrains_DataGGGP.pt', 'wb') as fpp:\n",
        "  torch.save(tttrains_DataGGGP, fpp)\n",
        "\n"
      ]
    },
    {
      "cell_type": "markdown",
      "source": [
        "# Test_data_Policy"
      ],
      "metadata": {
        "id": "RG8ApXGGzrTj"
      }
    },
    {
      "cell_type": "code",
      "execution_count": null,
      "metadata": {
        "id": "m3gKykxV5a5s",
        "colab": {
          "base_uri": "https://localhost:8080/"
        },
        "outputId": "6b37c6f5-389c-479f-c396-51d72c6eb967"
      },
      "outputs": [
        {
          "output_type": "stream",
          "name": "stdout",
          "text": [
            "[tensor([[ 0.7243, 50.9000, 52.7800, 50.3000,  1.6110],\n",
            "        [ 0.7082, 59.9700, 59.4000, 59.6200,  2.0030],\n",
            "        [ 0.6610, 74.4400, 77.2500, 78.7000,  2.0880],\n",
            "        ...,\n",
            "        [ 0.6828, 31.8100, 33.3000, 35.8000,  1.3750],\n",
            "        [ 0.6889, 64.5000, 66.0600, 63.3400,  1.9850],\n",
            "        [ 0.6730, 29.8800, 30.3000, 32.5000,  0.8520]]), tensor([[ 0.7243, 50.9000, 52.7800, 50.3000,  1.5930],\n",
            "        [ 0.7082, 59.9700, 59.4000, 59.6200,  1.9850],\n",
            "        [ 0.6610, 74.4400, 77.2500, 78.7000,  2.0790],\n",
            "        ...,\n",
            "        [ 0.6828, 31.8100, 33.3000, 35.8000,  0.9440],\n",
            "        [ 0.6889, 64.5000, 66.0600, 63.3400,  1.9810],\n",
            "        [ 0.6730, 29.8800, 30.3000, 32.5000,  1.0600]]), tensor([[ 0.7243, 50.9000, 52.7800, 50.3000,  1.5980],\n",
            "        [ 0.7082, 59.9700, 59.4000, 59.6200,  1.7490],\n",
            "        [ 0.6610, 74.4400, 77.2500, 78.7000,  2.1430],\n",
            "        ...,\n",
            "        [ 0.6828, 31.8100, 33.3000, 35.8000,  1.3300],\n",
            "        [ 0.6889, 64.5000, 66.0600, 63.3400,  2.1940],\n",
            "        [ 0.6730, 29.8800, 30.3000, 32.5000,  0.8230]]), tensor([[ 0.7243, 50.9000, 52.7800, 50.3000,  1.5640],\n",
            "        [ 0.7082, 59.9700, 59.4000, 59.6200,  2.1880],\n",
            "        [ 0.6610, 74.4400, 77.2500, 78.7000,  2.0070],\n",
            "        ...,\n",
            "        [ 0.6828, 31.8100, 33.3000, 35.8000,  1.0640],\n",
            "        [ 0.6889, 64.5000, 66.0600, 63.3400,  1.9340],\n",
            "        [ 0.6730, 29.8800, 30.3000, 32.5000,  0.8700]]), tensor([[ 0.7243, 50.9000, 52.7800, 50.3000,  1.5470],\n",
            "        [ 0.7082, 59.9700, 59.4000, 59.6200,  0.3510],\n",
            "        [ 0.6610, 74.4400, 77.2500, 78.7000,  2.3160],\n",
            "        ...,\n",
            "        [ 0.6828, 31.8100, 33.3000, 35.8000,  0.9040],\n",
            "        [ 0.6889, 64.5000, 66.0600, 63.3400,  1.9450],\n",
            "        [ 0.6730, 29.8800, 30.3000, 32.5000,  0.5680]]), tensor([[ 0.7243, 50.9000, 52.7800, 50.3000,  1.5860],\n",
            "        [ 0.7082, 59.9700, 59.4000, 59.6200,  1.7700],\n",
            "        [ 0.6610, 74.4400, 77.2500, 78.7000,  2.0420],\n",
            "        ...,\n",
            "        [ 0.6828, 31.8100, 33.3000, 35.8000,  1.0440],\n",
            "        [ 0.6889, 64.5000, 66.0600, 63.3400,  1.8920],\n",
            "        [ 0.6730, 29.8800, 30.3000, 32.5000,  0.9550]]), tensor([[ 0.7243, 50.9000, 52.7800, 50.3000,  1.4730],\n",
            "        [ 0.7082, 59.9700, 59.4000, 59.6200,  1.6980],\n",
            "        [ 0.6610, 74.4400, 77.2500, 78.7000,  2.3340],\n",
            "        ...,\n",
            "        [ 0.6828, 31.8100, 33.3000, 35.8000,  0.5790],\n",
            "        [ 0.6889, 64.5000, 66.0600, 63.3400,  2.1890],\n",
            "        [ 0.6730, 29.8800, 30.3000, 32.5000,  0.8580]]), tensor([[ 0.7243, 50.9000, 52.7800, 50.3000,  1.5740],\n",
            "        [ 0.7082, 59.9700, 59.4000, 59.6200,  1.8630],\n",
            "        [ 0.6610, 74.4400, 77.2500, 78.7000,  1.0450],\n",
            "        ...,\n",
            "        [ 0.6828, 31.8100, 33.3000, 35.8000,  1.0750],\n",
            "        [ 0.6889, 64.5000, 66.0600, 63.3400,  0.7680],\n",
            "        [ 0.6730, 29.8800, 30.3000, 32.5000,  0.9400]]), tensor([[ 0.7243, 50.9000, 52.7800, 50.3000,  1.5200],\n",
            "        [ 0.7082, 59.9700, 59.4000, 59.6200,  1.8780],\n",
            "        [ 0.6610, 74.4400, 77.2500, 78.7000,  2.0540],\n",
            "        ...,\n",
            "        [ 0.6828, 31.8100, 33.3000, 35.8000,  1.0770],\n",
            "        [ 0.6889, 64.5000, 66.0600, 63.3400,  1.9230],\n",
            "        [ 0.6730, 29.8800, 30.3000, 32.5000,  0.8630]])]\n"
          ]
        }
      ],
      "source": [
        "test_dataGGGP=predataP(test_GGG)\n",
        "print(test_dataGGGP)\n",
        "\n",
        "with open ('/content/drive/MyDrive/deep learning codes/EIAAPI_DOWNLOAD/solutions/mergedata/test_dataGGGP.pt', 'wb') as fppp:\n",
        "  torch.save(test_dataGGGP, fppp)"
      ]
    },
    {
      "cell_type": "markdown",
      "source": [
        "\n",
        "\n",
        "\n",
        "\n",
        "\n",
        "# DataLoader_Policy"
      ],
      "metadata": {
        "id": "efD-FqGjzjib"
      }
    },
    {
      "cell_type": "code",
      "execution_count": null,
      "metadata": {
        "id": "Tqfx8iP3Ykxd",
        "colab": {
          "base_uri": "https://localhost:8080/"
        },
        "outputId": "be76b4fd-ea20-43d8-8118-f4ad4d66ac40"
      },
      "outputs": [
        {
          "output_type": "stream",
          "name": "stdout",
          "text": [
            "Drive already mounted at /content/drive; to attempt to forcibly remount, call drive.mount(\"/content/drive\", force_remount=True).\n",
            "<torch.utils.data.dataloader.DataLoader object at 0x79cb907afc70>\n"
          ]
        }
      ],
      "source": [
        "from google.colab import drive\n",
        "drive.mount('/content/drive')\n",
        "from torch.utils.data import DataLoader\n",
        "tttrains_dataloaderP = DataLoader(tttrains_DataGGGP, batch_size=364, shuffle=True)\n",
        "test_dataloaderP = DataLoader(test_dataGGGP, batch_size=364, shuffle=True)\n",
        "print(test_dataloaderP)\n"
      ]
    },
    {
      "cell_type": "markdown",
      "source": [
        "# Define labels/Targets/Dependent and Feateurs/Independent vairables Input structured into Tuples of Features  and Targets for State/Step function"
      ],
      "metadata": {
        "id": "AYELchS3spsd"
      }
    },
    {
      "cell_type": "code",
      "source": [
        "#States: 0==Forex, 1=OPEC,2==Brent 3==WTI, 4=Fuelprice  5==Reward space  6==Reward space 7==Probability space\n",
        "\n",
        "def predataS(x):\n",
        "  import os\n",
        "  import pandas as pd\n",
        "  from torchvision.io import read_image\n",
        "  from torch import tensor\n",
        "  from torchvision.transforms import ToTensor\n",
        "  from torch.utils.data import DataLoader\n",
        "  GGG=x\n",
        "\n",
        "  i=0\n",
        "  GGGGG=[]\n",
        "  K=x.shape[2]\n",
        "\n",
        "  for i in range(K):\n",
        "    GGGG=x[:,:,i]\n",
        "\n",
        "\n",
        "    labels = GGGG[0:,7:8]\n",
        "    labels.index_add\n",
        "    images = GGGG[0:,0:7]\n",
        "    images.index_add\n",
        "    label = labels.clone().detach()\n",
        "    image = images.clone().detach()\n",
        "    #GGGGG.append(image, reshape(label,(-1,1)))\n",
        "    GGGGG.append((image,label))\n",
        "\n",
        "\n",
        "    i += 1\n",
        "  # return train_dataloader,test_dataloader\n",
        "    GGGGG\n",
        "  return GGGGG\n",
        "\n",
        "  with open ('/content/drive/MyDrive/deep learning codes/EIAAPI_DOWNLOAD/solutions/mergedata/GGGGG.pt ', 'wb') as fpppps:\n",
        "    torch.save(GGGGG,fpppps)"
      ],
      "metadata": {
        "id": "mL7cvbE3xyLr"
      },
      "execution_count": null,
      "outputs": []
    },
    {
      "cell_type": "markdown",
      "source": [
        "#Train_data_State"
      ],
      "metadata": {
        "id": "qSFyPejEtEDC"
      }
    },
    {
      "cell_type": "code",
      "source": [
        "train_DataGGGS=predataS(training_GGG)\n",
        "\n",
        "print(train_DataGGGS)\n",
        "with open ('/content/drive/MyDrive/deep learning codes/EIAAPI_DOWNLOAD/solutions/mergedata/train_DataGGGS.pt ', 'wb') as fpps:\n",
        "  torch.save(train_DataGGGS, fpps)"
      ],
      "metadata": {
        "id": "l2mNo6MEtTVJ",
        "colab": {
          "base_uri": "https://localhost:8080/"
        },
        "outputId": "5d55ab6d-df79-438a-a7dc-b536977f39e8"
      },
      "execution_count": null,
      "outputs": [
        {
          "output_type": "stream",
          "name": "stdout",
          "text": [
            "[(tensor([[7.1178e-01, 7.4900e+01, 7.6250e+01,  ..., 2.1340e+00, 2.9000e-02,\n",
            "         0.0000e+00],\n",
            "        [6.4858e-01, 1.2280e+02, 1.2520e+02,  ..., 1.2840e+00, 2.0560e+00,\n",
            "         0.0000e+00],\n",
            "        [6.6609e-01, 1.0310e+02, 1.0400e+02,  ..., 2.6380e+00, 0.0000e+00,\n",
            "         1.0000e+00],\n",
            "        ...,\n",
            "        [6.5339e-01, 7.2700e+01, 7.8100e+01,  ..., 2.3490e+00, 0.0000e+00,\n",
            "         1.0000e+00],\n",
            "        [6.5589e-01, 7.5200e+01, 7.6900e+01,  ..., 2.0830e+00, 2.2000e-02,\n",
            "         0.0000e+00],\n",
            "        [6.7774e-01, 7.3800e+01, 7.6200e+01,  ..., 2.0980e+00, 0.0000e+00,\n",
            "         2.0000e+00]]), tensor([], size=(3847, 0))), (tensor([[7.1178e-01, 7.4900e+01, 7.6250e+01,  ..., 2.2310e+00, 1.9100e-01,\n",
            "         0.0000e+00],\n",
            "        [6.4858e-01, 1.2280e+02, 1.2520e+02,  ..., 3.3790e+00, 9.9000e-02,\n",
            "         0.0000e+00],\n",
            "        [6.6609e-01, 1.0310e+02, 1.0400e+02,  ..., 9.0900e-01, 0.0000e+00,\n",
            "         1.0000e+00],\n",
            "        ...,\n",
            "        [6.5339e-01, 7.2700e+01, 7.8100e+01,  ..., 2.0520e+00, 0.0000e+00,\n",
            "         1.0000e+00],\n",
            "        [6.5589e-01, 7.5200e+01, 7.6900e+01,  ..., 2.1250e+00, 5.4000e-02,\n",
            "         2.0000e+00],\n",
            "        [6.7774e-01, 7.3800e+01, 7.6200e+01,  ..., 2.1050e+00, 0.0000e+00,\n",
            "         2.0000e+00]]), tensor([], size=(3847, 0))), (tensor([[7.1178e-01, 7.4900e+01, 7.6250e+01,  ..., 2.1140e+00, 3.4000e-02,\n",
            "         0.0000e+00],\n",
            "        [6.4858e-01, 1.2280e+02, 1.2520e+02,  ..., 3.2880e+00, 2.0090e+00,\n",
            "         2.0000e+00],\n",
            "        [6.6609e-01, 1.0310e+02, 1.0400e+02,  ..., 2.9720e+00, 0.0000e+00,\n",
            "         1.0000e+00],\n",
            "        ...,\n",
            "        [6.5339e-01, 7.2700e+01, 7.8100e+01,  ..., 2.0710e+00, 0.0000e+00,\n",
            "         1.0000e+00],\n",
            "        [6.5589e-01, 7.5200e+01, 7.6900e+01,  ..., 1.2490e+00, 4.0000e-03,\n",
            "         2.0000e+00],\n",
            "        [6.7774e-01, 7.3800e+01, 7.6200e+01,  ..., 1.0120e+00, 0.0000e+00,\n",
            "         2.0000e+00]]), tensor([], size=(3847, 0))), (tensor([[7.1178e-01, 7.4900e+01, 7.6250e+01,  ..., 9.3800e-01, 1.2220e+00,\n",
            "         0.0000e+00],\n",
            "        [6.4858e-01, 1.2280e+02, 1.2520e+02,  ..., 3.1870e+00, 6.7000e-02,\n",
            "         2.0000e+00],\n",
            "        [6.6609e-01, 1.0310e+02, 1.0400e+02,  ..., 2.6630e+00, 0.0000e+00,\n",
            "         1.0000e+00],\n",
            "        ...,\n",
            "        [6.5339e-01, 7.2700e+01, 7.8100e+01,  ..., 2.2710e+00, 0.0000e+00,\n",
            "         1.0000e+00],\n",
            "        [6.5589e-01, 7.5200e+01, 7.6900e+01,  ..., 2.0860e+00, 3.7000e-02,\n",
            "         0.0000e+00],\n",
            "        [6.7774e-01, 7.3800e+01, 7.6200e+01,  ..., 2.1230e+00, 0.0000e+00,\n",
            "         2.0000e+00]]), tensor([], size=(3847, 0))), (tensor([[7.1178e-01, 7.4900e+01, 7.6250e+01,  ..., 2.1800e+00, 1.2000e-02,\n",
            "         0.0000e+00],\n",
            "        [6.4858e-01, 1.2280e+02, 1.2520e+02,  ..., 3.2360e+00, 5.3000e-02,\n",
            "         0.0000e+00],\n",
            "        [6.6609e-01, 1.0310e+02, 1.0400e+02,  ..., 2.8200e+00, 0.0000e+00,\n",
            "         1.0000e+00],\n",
            "        ...,\n",
            "        [6.5339e-01, 7.2700e+01, 7.8100e+01,  ..., 2.3270e+00, 0.0000e+00,\n",
            "         1.0000e+00],\n",
            "        [6.5589e-01, 7.5200e+01, 7.6900e+01,  ..., 2.0860e+00, 3.5000e-02,\n",
            "         2.0000e+00],\n",
            "        [6.7774e-01, 7.3800e+01, 7.6200e+01,  ..., 2.2130e+00, 0.0000e+00,\n",
            "         2.0000e+00]]), tensor([], size=(3847, 0))), (tensor([[7.1178e-01, 7.4900e+01, 7.6250e+01,  ..., 2.1300e+00, 1.8000e-02,\n",
            "         0.0000e+00],\n",
            "        [6.4858e-01, 1.2280e+02, 1.2520e+02,  ..., 3.3110e+00, 8.0000e-03,\n",
            "         2.0000e+00],\n",
            "        [6.6609e-01, 1.0310e+02, 1.0400e+02,  ..., 2.8880e+00, 0.0000e+00,\n",
            "         1.0000e+00],\n",
            "        ...,\n",
            "        [6.5339e-01, 7.2700e+01, 7.8100e+01,  ..., 2.0700e+00, 0.0000e+00,\n",
            "         1.0000e+00],\n",
            "        [6.5589e-01, 7.5200e+01, 7.6900e+01,  ..., 2.0730e+00, 1.3000e-02,\n",
            "         2.0000e+00],\n",
            "        [6.7774e-01, 7.3800e+01, 7.6200e+01,  ..., 2.1350e+00, 0.0000e+00,\n",
            "         2.0000e+00]]), tensor([], size=(3847, 0))), (tensor([[7.1178e-01, 7.4900e+01, 7.6250e+01,  ..., 2.1770e+00, 2.6000e-02,\n",
            "         0.0000e+00],\n",
            "        [6.4858e-01, 1.2280e+02, 1.2520e+02,  ..., 3.2620e+00, 4.1000e-02,\n",
            "         2.0000e+00],\n",
            "        [6.6609e-01, 1.0310e+02, 1.0400e+02,  ..., 2.8820e+00, 0.0000e+00,\n",
            "         1.0000e+00],\n",
            "        ...,\n",
            "        [6.5339e-01, 7.2700e+01, 7.8100e+01,  ..., 1.2030e+00, 0.0000e+00,\n",
            "         1.0000e+00],\n",
            "        [6.5589e-01, 7.5200e+01, 7.6900e+01,  ..., 2.1130e+00, 1.0000e-02,\n",
            "         2.0000e+00],\n",
            "        [6.7774e-01, 7.3800e+01, 7.6200e+01,  ..., 2.0640e+00, 0.0000e+00,\n",
            "         2.0000e+00]]), tensor([], size=(3847, 0))), (tensor([[7.1178e-01, 7.4900e+01, 7.6250e+01,  ..., 2.0370e+00, 8.0000e-02,\n",
            "         0.0000e+00],\n",
            "        [6.4858e-01, 1.2280e+02, 1.2520e+02,  ..., 3.2760e+00, 7.0000e-03,\n",
            "         2.0000e+00],\n",
            "        [6.6609e-01, 1.0310e+02, 1.0400e+02,  ..., 2.9320e+00, 0.0000e+00,\n",
            "         1.0000e+00],\n",
            "        ...,\n",
            "        [6.5339e-01, 7.2700e+01, 7.8100e+01,  ..., 1.1930e+00, 0.0000e+00,\n",
            "         1.0000e+00],\n",
            "        [6.5589e-01, 7.5200e+01, 7.6900e+01,  ..., 1.2440e+00, 8.6400e-01,\n",
            "         0.0000e+00],\n",
            "        [6.7774e-01, 7.3800e+01, 7.6200e+01,  ..., 1.0230e+00, 0.0000e+00,\n",
            "         2.0000e+00]]), tensor([], size=(3847, 0))), (tensor([[7.1178e-01, 7.4900e+01, 7.6250e+01,  ..., 2.1170e+00, 1.1200e-01,\n",
            "         0.0000e+00],\n",
            "        [6.4858e-01, 1.2280e+02, 1.2520e+02,  ..., 3.3480e+00, 1.3400e-01,\n",
            "         0.0000e+00],\n",
            "        [6.6609e-01, 1.0310e+02, 1.0400e+02,  ..., 2.9450e+00, 0.0000e+00,\n",
            "         1.0000e+00],\n",
            "        ...,\n",
            "        [6.5339e-01, 7.2700e+01, 7.8100e+01,  ..., 2.1670e+00, 0.0000e+00,\n",
            "         1.0000e+00],\n",
            "        [6.5589e-01, 7.5200e+01, 7.6900e+01,  ..., 2.1230e+00, 6.5000e-02,\n",
            "         0.0000e+00],\n",
            "        [6.7774e-01, 7.3800e+01, 7.6200e+01,  ..., 2.2300e+00, 0.0000e+00,\n",
            "         2.0000e+00]]), tensor([], size=(3847, 0)))]\n"
          ]
        }
      ]
    },
    {
      "cell_type": "markdown",
      "source": [
        "# Test_data_State"
      ],
      "metadata": {
        "id": "QlBm-n0Zt4X9"
      }
    },
    {
      "cell_type": "code",
      "source": [
        "test_dataGGGS=predataS(test_GGG)\n",
        "print(test_dataGGGS)\n",
        "\n",
        "\n",
        "with open ('/content/drive/MyDrive/deep learning codes/EIAAPI_DOWNLOAD/solutions/mergedata/test_dataGGGS.pt', 'wb') as fppps:\n",
        "  torch.save(test_dataGGGS, fppps)"
      ],
      "metadata": {
        "id": "PaBfbPZUt-pk",
        "colab": {
          "base_uri": "https://localhost:8080/"
        },
        "outputId": "a3b6444f-8930-4b38-f8e6-49a7780fda02"
      },
      "execution_count": null,
      "outputs": [
        {
          "output_type": "stream",
          "name": "stdout",
          "text": [
            "[(tensor([[7.2432e-01, 5.0900e+01, 5.2780e+01,  ..., 1.6110e+00, 7.4000e-02,\n",
            "         2.0000e+00],\n",
            "        [7.0816e-01, 5.9970e+01, 5.9400e+01,  ..., 2.0030e+00, 1.0100e-01,\n",
            "         0.0000e+00],\n",
            "        [6.6096e-01, 7.4440e+01, 7.7250e+01,  ..., 2.0880e+00, 0.0000e+00,\n",
            "         2.0000e+00],\n",
            "        ...,\n",
            "        [6.8281e-01, 3.1810e+01, 3.3300e+01,  ..., 1.3750e+00, 4.4800e-01,\n",
            "         0.0000e+00],\n",
            "        [6.8891e-01, 6.4500e+01, 6.6060e+01,  ..., 1.9850e+00, 6.9000e-02,\n",
            "         0.0000e+00],\n",
            "        [6.7296e-01, 2.9880e+01, 3.0300e+01,  ..., 8.5200e-01, 0.0000e+00,\n",
            "         1.0000e+00]]), tensor([], size=(3848, 0))), (tensor([[7.2432e-01, 5.0900e+01, 5.2780e+01,  ..., 1.5930e+00, 9.3300e-01,\n",
            "         2.0000e+00],\n",
            "        [7.0816e-01, 5.9970e+01, 5.9400e+01,  ..., 1.9850e+00, 2.4100e-01,\n",
            "         2.0000e+00],\n",
            "        [6.6096e-01, 7.4440e+01, 7.7250e+01,  ..., 2.0790e+00, 0.0000e+00,\n",
            "         2.0000e+00],\n",
            "        ...,\n",
            "        [6.8281e-01, 3.1810e+01, 3.3300e+01,  ..., 9.4400e-01, 1.6600e-01,\n",
            "         2.0000e+00],\n",
            "        [6.8891e-01, 6.4500e+01, 6.6060e+01,  ..., 1.9810e+00, 6.6000e-02,\n",
            "         2.0000e+00],\n",
            "        [6.7296e-01, 2.9880e+01, 3.0300e+01,  ..., 1.0600e+00, 0.0000e+00,\n",
            "         1.0000e+00]]), tensor([], size=(3848, 0))), (tensor([[7.2432e-01, 5.0900e+01, 5.2780e+01,  ..., 1.5980e+00, 1.0000e-01,\n",
            "         2.0000e+00],\n",
            "        [7.0816e-01, 5.9970e+01, 5.9400e+01,  ..., 1.7490e+00, 3.3000e-02,\n",
            "         2.0000e+00],\n",
            "        [6.6096e-01, 7.4440e+01, 7.7250e+01,  ..., 2.1430e+00, 0.0000e+00,\n",
            "         2.0000e+00],\n",
            "        ...,\n",
            "        [6.8281e-01, 3.1810e+01, 3.3300e+01,  ..., 1.3300e+00, 2.4500e-01,\n",
            "         2.0000e+00],\n",
            "        [6.8891e-01, 6.4500e+01, 6.6060e+01,  ..., 2.1940e+00, 2.7400e-01,\n",
            "         0.0000e+00],\n",
            "        [6.7296e-01, 2.9880e+01, 3.0300e+01,  ..., 8.2300e-01, 0.0000e+00,\n",
            "         1.0000e+00]]), tensor([], size=(3848, 0))), (tensor([[7.2432e-01, 5.0900e+01, 5.2780e+01,  ..., 1.5640e+00, 1.1000e-02,\n",
            "         2.0000e+00],\n",
            "        [7.0816e-01, 5.9970e+01, 5.9400e+01,  ..., 2.1880e+00, 3.3000e-02,\n",
            "         2.0000e+00],\n",
            "        [6.6096e-01, 7.4440e+01, 7.7250e+01,  ..., 2.0070e+00, 0.0000e+00,\n",
            "         2.0000e+00],\n",
            "        ...,\n",
            "        [6.8281e-01, 3.1810e+01, 3.3300e+01,  ..., 1.0640e+00, 1.0000e-03,\n",
            "         2.0000e+00],\n",
            "        [6.8891e-01, 6.4500e+01, 6.6060e+01,  ..., 1.9340e+00, 2.6000e-02,\n",
            "         2.0000e+00],\n",
            "        [6.7296e-01, 2.9880e+01, 3.0300e+01,  ..., 8.7000e-01, 0.0000e+00,\n",
            "         1.0000e+00]]), tensor([], size=(3848, 0))), (tensor([[7.2432e-01, 5.0900e+01, 5.2780e+01,  ..., 1.5470e+00, 7.3000e-02,\n",
            "         2.0000e+00],\n",
            "        [7.0816e-01, 5.9970e+01, 5.9400e+01,  ..., 3.5100e-01, 3.0000e-03,\n",
            "         2.0000e+00],\n",
            "        [6.6096e-01, 7.4440e+01, 7.7250e+01,  ..., 2.3160e+00, 0.0000e+00,\n",
            "         2.0000e+00],\n",
            "        ...,\n",
            "        [6.8281e-01, 3.1810e+01, 3.3300e+01,  ..., 9.0400e-01, 2.1600e-01,\n",
            "         0.0000e+00],\n",
            "        [6.8891e-01, 6.4500e+01, 6.6060e+01,  ..., 1.9450e+00, 1.2100e+00,\n",
            "         2.0000e+00],\n",
            "        [6.7296e-01, 2.9880e+01, 3.0300e+01,  ..., 5.6800e-01, 0.0000e+00,\n",
            "         1.0000e+00]]), tensor([], size=(3848, 0))), (tensor([[7.2432e-01, 5.0900e+01, 5.2780e+01,  ..., 1.5860e+00, 9.1700e-01,\n",
            "         2.0000e+00],\n",
            "        [7.0816e-01, 5.9970e+01, 5.9400e+01,  ..., 1.7700e+00, 9.9000e-02,\n",
            "         2.0000e+00],\n",
            "        [6.6096e-01, 7.4440e+01, 7.7250e+01,  ..., 2.0420e+00, 0.0000e+00,\n",
            "         2.0000e+00],\n",
            "        ...,\n",
            "        [6.8281e-01, 3.1810e+01, 3.3300e+01,  ..., 1.0440e+00, 7.4000e-02,\n",
            "         2.0000e+00],\n",
            "        [6.8891e-01, 6.4500e+01, 6.6060e+01,  ..., 1.8920e+00, 2.7000e-02,\n",
            "         2.0000e+00],\n",
            "        [6.7296e-01, 2.9880e+01, 3.0300e+01,  ..., 9.5500e-01, 0.0000e+00,\n",
            "         1.0000e+00]]), tensor([], size=(3848, 0))), (tensor([[7.2432e-01, 5.0900e+01, 5.2780e+01,  ..., 1.4730e+00, 4.2700e-01,\n",
            "         0.0000e+00],\n",
            "        [7.0816e-01, 5.9970e+01, 5.9400e+01,  ..., 1.6980e+00, 4.6000e-02,\n",
            "         2.0000e+00],\n",
            "        [6.6096e-01, 7.4440e+01, 7.7250e+01,  ..., 2.3340e+00, 0.0000e+00,\n",
            "         2.0000e+00],\n",
            "        ...,\n",
            "        [6.8281e-01, 3.1810e+01, 3.3300e+01,  ..., 5.7900e-01, 4.9600e-01,\n",
            "         0.0000e+00],\n",
            "        [6.8891e-01, 6.4500e+01, 6.6060e+01,  ..., 2.1890e+00, 3.1800e-01,\n",
            "         0.0000e+00],\n",
            "        [6.7296e-01, 2.9880e+01, 3.0300e+01,  ..., 8.5800e-01, 0.0000e+00,\n",
            "         1.0000e+00]]), tensor([], size=(3848, 0))), (tensor([[7.2432e-01, 5.0900e+01, 5.2780e+01,  ..., 1.5740e+00, 8.5000e-02,\n",
            "         2.0000e+00],\n",
            "        [7.0816e-01, 5.9970e+01, 5.9400e+01,  ..., 1.8630e+00, 6.0000e-03,\n",
            "         2.0000e+00],\n",
            "        [6.6096e-01, 7.4440e+01, 7.7250e+01,  ..., 1.0450e+00, 0.0000e+00,\n",
            "         2.0000e+00],\n",
            "        ...,\n",
            "        [6.8281e-01, 3.1810e+01, 3.3300e+01,  ..., 1.0750e+00, 2.3500e-01,\n",
            "         2.0000e+00],\n",
            "        [6.8891e-01, 6.4500e+01, 6.6060e+01,  ..., 7.6800e-01, 1.1230e+00,\n",
            "         0.0000e+00],\n",
            "        [6.7296e-01, 2.9880e+01, 3.0300e+01,  ..., 9.4000e-01, 0.0000e+00,\n",
            "         1.0000e+00]]), tensor([], size=(3848, 0))), (tensor([[7.2432e-01, 5.0900e+01, 5.2780e+01,  ..., 1.5200e+00, 1.3000e-01,\n",
            "         0.0000e+00],\n",
            "        [7.0816e-01, 5.9970e+01, 5.9400e+01,  ..., 1.8780e+00, 2.0900e-01,\n",
            "         2.0000e+00],\n",
            "        [6.6096e-01, 7.4440e+01, 7.7250e+01,  ..., 2.0540e+00, 0.0000e+00,\n",
            "         2.0000e+00],\n",
            "        ...,\n",
            "        [6.8281e-01, 3.1810e+01, 3.3300e+01,  ..., 1.0770e+00, 4.9200e-01,\n",
            "         0.0000e+00],\n",
            "        [6.8891e-01, 6.4500e+01, 6.6060e+01,  ..., 1.9230e+00, 1.8000e-02,\n",
            "         2.0000e+00],\n",
            "        [6.7296e-01, 2.9880e+01, 3.0300e+01,  ..., 8.6300e-01, 0.0000e+00,\n",
            "         1.0000e+00]]), tensor([], size=(3848, 0)))]\n"
          ]
        }
      ]
    },
    {
      "cell_type": "markdown",
      "source": [
        "# DataLoader_State"
      ],
      "metadata": {
        "id": "AEf6jzGru_9M"
      }
    },
    {
      "cell_type": "code",
      "source": [
        "from google.colab import drive\n",
        "drive.mount('/content/drive')\n",
        "from torch.utils.data import DataLoader\n",
        "Train_dataloaderS = DataLoader(train_DataGGGS, batch_size=364, shuffle=True)\n",
        "test_dataloaderS = DataLoader(test_dataGGGS, batch_size=364, shuffle=True)\n",
        "\n"
      ],
      "metadata": {
        "colab": {
          "base_uri": "https://localhost:8080/"
        },
        "id": "1pNFRVJhSdIh",
        "outputId": "37f9a82b-77d5-4041-9f7e-0eaeb6290c63"
      },
      "execution_count": null,
      "outputs": [
        {
          "output_type": "stream",
          "name": "stdout",
          "text": [
            "Drive already mounted at /content/drive; to attempt to forcibly remount, call drive.mount(\"/content/drive\", force_remount=True).\n"
          ]
        }
      ]
    },
    {
      "cell_type": "markdown",
      "source": [],
      "metadata": {
        "id": "B777mzVctrbV"
      }
    }
  ],
  "metadata": {
    "colab": {
      "provenance": [],
      "authorship_tag": "ABX9TyPAyFon/LsPcSsi3Drwyj+b",
      "include_colab_link": true
    },
    "kernelspec": {
      "display_name": "Python 3",
      "name": "python3"
    },
    "language_info": {
      "name": "python"
    }
  },
  "nbformat": 4,
  "nbformat_minor": 0
}